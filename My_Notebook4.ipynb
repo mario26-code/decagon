{
 "cells": [
  {
   "cell_type": "markdown",
   "id": "297b0f09-420c-4dcc-a3e4-d739f619debb",
   "metadata": {},
   "source": [
    "# Data Science Tools and Ecosystem"
   ]
  },
  {
   "cell_type": "markdown",
   "id": "b4f1d3ff-81b9-4d17-bb15-fe4d1dc7ce30",
   "metadata": {},
   "source": [
    "In this notebook, Data Science Tools and Ecosystem are summarized."
   ]
  },
  {
   "cell_type": "markdown",
   "id": "68008168-646b-42cd-8545-1e4f3cb8b367",
   "metadata": {},
   "source": [
    "Some of the popular languages that Data Scientists use are:\n",
    "1. Python\n",
    "2. R\n",
    "3. Julia\n",
    "4. Scala\n",
    "5. Matlab"
   ]
  },
  {
   "cell_type": "markdown",
   "id": "6d45caa4-da0a-4910-903c-d99fa46de10a",
   "metadata": {},
   "source": [
    "Some of the commonly used libraries used by Data Scientists include:\n",
    "1. numPy\n",
    "2. pandas\n",
    "3. Tensorflow\n",
    "4. ggplot2 "
   ]
  },
  {
   "cell_type": "markdown",
   "id": "4a6a5b6e-733f-42a6-a8ea-35c8ea6cada2",
   "metadata": {},
   "source": [
    "|Data Science Tools|\n",
    "|------------------|\n",
    "| Jupyter Notebook|\n",
    "|RStudio|\n",
    "|VS Code|\n"
   ]
  },
  {
   "cell_type": "markdown",
   "id": "eee567cc-5147-4485-87b3-de0bb276957b",
   "metadata": {},
   "source": [
    "### Below are a few examples of evaluating arithmetic expressions in Python"
   ]
  },
  {
   "cell_type": "code",
   "execution_count": 3,
   "id": "d932933d-6cf0-4639-9588-e635e5ccb159",
   "metadata": {},
   "outputs": [
    {
     "data": {
      "text/plain": [
       "17"
      ]
     },
     "execution_count": 3,
     "metadata": {},
     "output_type": "execute_result"
    }
   ],
   "source": [
    "# This a simple arithmetic expression to mutiply then add integers\n",
    "(3*4)+5"
   ]
  },
  {
   "cell_type": "code",
   "execution_count": 5,
   "id": "1a7e7d34-9923-49df-a42e-8320ab4a4c29",
   "metadata": {},
   "outputs": [
    {
     "data": {
      "text/plain": [
       "3.3333333333333335"
      ]
     },
     "execution_count": 5,
     "metadata": {},
     "output_type": "execute_result"
    }
   ],
   "source": [
    "# This will convert 200 minutes to hours by diving by 60\n",
    "200/60"
   ]
  },
  {
   "cell_type": "markdown",
   "id": "2f834231-bfd0-414a-8a25-ecd237c29ac7",
   "metadata": {},
   "source": [
    "**Objectives:**\n",
    "- Understanding the Data Science Ecosystem\n",
    "- Popular Tools for Data Science\n",
    "- Using Open Source Tools"
   ]
  },
  {
   "cell_type": "markdown",
   "id": "7dd228b0-3e64-4240-b9ad-948b8bee0cb2",
   "metadata": {},
   "source": [
    "Author\n",
    "## Atif"
   ]
  },
  {
   "cell_type": "code",
   "execution_count": null,
   "id": "0ebb9a2f-3e68-4c26-89c9-a539bb65b66e",
   "metadata": {},
   "outputs": [],
   "source": []
  }
 ],
 "metadata": {
  "kernelspec": {
   "display_name": "Python 3 (ipykernel)",
   "language": "python",
   "name": "python3"
  },
  "language_info": {
   "codemirror_mode": {
    "name": "ipython",
    "version": 3
   },
   "file_extension": ".py",
   "mimetype": "text/x-python",
   "name": "python",
   "nbconvert_exporter": "python",
   "pygments_lexer": "ipython3",
   "version": "3.12.7"
  }
 },
 "nbformat": 4,
 "nbformat_minor": 5
}
